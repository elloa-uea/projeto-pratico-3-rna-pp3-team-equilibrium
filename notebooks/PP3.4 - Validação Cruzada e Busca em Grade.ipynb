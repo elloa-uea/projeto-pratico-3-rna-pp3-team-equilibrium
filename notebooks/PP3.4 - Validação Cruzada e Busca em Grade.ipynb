{
 "cells": [
  {
   "cell_type": "markdown",
   "metadata": {
    "id": "jxaMMV3RrreY"
   },
   "source": [
    "# Redes Neurais Artificiais 2020.1 -- Projeto Prático 3.4\n",
    "\n",
    "**Disciplina**: Redes Neurais Artificiais 2020.1  \n",
    "**Professora**: Elloá B. Guedes (ebgcosta@uea.edu.br)  \n",
    "**Github**: http://github.com/elloa  \n",
    "        \n",
    "\n",
    "Levando em conta a base de dados **_Forest Cover Type_**, esta terceira parte do Projeto Prático 3 diz respeito à proposição e avaliação de múltiplas redes neurais artificiais do tipo feedforward multilayer perceptron para o problema da classificação multi-classe da cobertura florestal em uma área do Roosevelt National Forest.\n",
    "\n",
    "## Busca em Grade\n",
    "\n",
    "Uma maneira padrão de escolher os parâmetros de um modelo de Machine Learning é por meio de uma busca em grade via força bruta. O algoritmo da busca em grade é dado como segue:\n",
    "\n",
    "1. Escolha a métrica de desempenho que você deseja maximizar  \n",
    "2. Escolha o algoritmo de Machine Learning (exemplo: redes neurais artificiais). Em seguida, defina os parâmetros ou hiperparâmetros deste tipo de modelo sobre os quais você dseja otimizar (número de épocas, taxa de aprendizado, etc.) e construa um array de valores a serem testados para cada parâmetro ou hiperparâmetro.  \n",
    "3. Defina a grade de busca, a qual é dada como o produto cartesiano de cada parâmetro a ser testado. Por exemplo, para os arrays [50, 100, 1000] e [10, 15], tem-se que a grade é [(50,10), (50,15), (100,10), (100,15), (1000,10), (1000,15)].\n",
    "4. Para cada combinação de parâmetros a serem otimizados, utilize o conjunto de treinamento para realizar uma validação cruzada (holdout ou k-fold) e calcule a métrica de avaliação no conjunto de teste (ou conjuntos de teste)\n",
    "5. Escolha a combinação de parâmetros que maximizam a métrica de avaliação. Este é o modelo otimizado.\n",
    "\n",
    "Por que esta abordagem funciona? Porque a busca em grade efetua uma pesquisa extensiva sobre as possíveis combinações de valores para cada um dos parâmetros a serem ajustados. Para cada combinação, ela estima a performance do modelo em dados novos. Por fim, o modelo com melhor métrica de desempenho é escolhido. Tem-se então que este modelo é o que melhor pode vir a generalizar mediante dados nunca antes vistos.\n",
    "\n",
    "## Efetuando a Busca em Grade sobre Hiperparâmetros das Top-6 RNAs\n",
    "\n",
    "Considerando a etapa anterior do projeto prático, foram identificadas pelo menos 6 melhores Redes Neurais para o problema da classificação multi-classe da cobertura florestal no conjunto de dados selecionado. Algumas destas redes possuem atributos categóricos como variáveis preditoras, enquanto outras possuem apenas os atributos numéricos como preditores.\n",
    "\n",
    "A primeira etapa desta segunda parte do projeto consiste em trazer para este notebook estas seis arquiteturas, ressaltando:\n",
    "\n",
    "1. Número de neurônios ocultos por camada  \n",
    "2. Função de Ativação  \n",
    "3. Utilização ou não de atributos categóricos   \n",
    "4. Desempenho médio +- desvio padrão nos testes anteriores  \n",
    "5. Número de repetições que a equipe conseguiu realizar para verificar os resultados  \n",
    "\n",
    "Elabore uma busca em grade sobre estas arquiteturas que contemple variações nos hiperparâmetros a seguir, conforme documentação de [MLPClassifier](https://scikit-learn.org/stable/modules/generated/sklearn.neural_network.MLPClassifier.html)\n",
    "\n",
    "A. Solver  (Não usar o LBFGS, pois é mais adequado para datasets pequenos)  \n",
    "B. Batch Size  \n",
    "C. Learning Rate Init  \n",
    "D. Paciência (n_iter_no_change)  \n",
    "E. Épocas  \n",
    "\n",
    "Nesta busca em grande, contemple a utilização do objeto [GridSearchCV](https://scikit-learn.org/stable/modules/generated/sklearn.model_selection.GridSearchCV.html)"
   ]
  },
  {
   "cell_type": "markdown",
   "metadata": {
    "id": "eX2-6mWOrreh"
   },
   "source": [
    "## Validação Cruzada k-fold\n",
    "\n",
    "Na elaboração da busca em grid, vamos avaliar os modelos propostos segundo uma estratégia de validação cruzada ainda não explorada até o momento: a validação cruzada k-fold. Segundo a mesma, o conjunto de dados é particionado em k partes: a cada iteração, separa-se uma das partes para teste e o modelo é treinado com as k-1 partes remanescentes. Valores sugestivos de k na literatura são k = 3, 5 ou 10, pois o custo computacional desta validação dos modelos é alto. A métrica de desempenho é resultante da média dos desempenhos nas k iterações. A figura a seguir ilustra a ideia desta avaliação\n",
    "\n",
    "<img src = \"https://ethen8181.github.io/machine-learning/model_selection/img/kfolds.png\" width=600></img>\n",
    "\n",
    "Considerando a métrica de desempenho F1-Score, considere a validação cruzada 5-fold para aferir os resultados da busca em grande anterior."
   ]
  },
  {
   "cell_type": "markdown",
   "metadata": {
    "id": "nOYYD-46xrWU"
   },
   "source": [
    "#### As 6 melhores arquiteturas da etapa anterior\n",
    " \n",
    " \n",
    "1.  Arquitetura  1\n",
    " \n",
    " *  2 camadas ocultas, a primeira camada oculta tem 10 neurônios, a segunda camada oculta tem 9 neurônios\n",
    " *  Função de ativação: ReLU\n",
    " *  Não utiliza atributos categóricos\n",
    " *  Resultados da etapa anterior: acurácia = 0.7217 +-0.0057, F-Score = 0.7111 +-0.0066\n",
    " *  10 repetições\n",
    " \n",
    "2.  Arquitetura 2\n",
    " \n",
    " *  1 camada oculta com 10 neurônios\n",
    " *  Função de ativação: logística\n",
    " *  Não utiliza atributos categóricos\n",
    " *  Resultados da etapa anterior: acurácia = 0.7135 +-0.0021, F-Score = 0.7001 +-0.0025\n",
    " *  10 repetições\n",
    " \n",
    "3.  Arquitetura 3\n",
    " \n",
    " *  1 camada oculta com 9 neurônios\n",
    " *  Função de ativação: logística\n",
    " *  Não utiliza atributos categóricos\n",
    " *  Resultados da etapa anterior: acurácia = 0.7126 +-0.0031, F-Score = 0.699 +-0.0035\n",
    " *  10 repetições\n",
    " \n",
    "4.  Arquitetura 4\n",
    " \n",
    " *  1 camada oculta com 10 neurônios\n",
    " *  Função de ativação: tangente hiperbólica\n",
    " *  Utiliza atributos categóricos\n",
    " *  Resultados da etapa anterior: acurácia = 0.7173 +-0.0026, F-Score = 0.7051 +-0.0026\n",
    " *  10 repetições\n",
    " \n",
    "5.  Arquitetura 5\n",
    " \n",
    " *  1 camada oculta com 9 neurônios\n",
    " *  Função de ativação: ReLU\n",
    " *  Utiliza atributos categóricos\n",
    " *  Resultados da etapa anterior: acurácia = 0.7102 +-0.0052, F-Score = 0.6969 +-0.0056\n",
    " *  10 repetições\n",
    "\n",
    "6.  Arquitetura 6\n",
    " \n",
    " *  1 camada oculta com 6 neurônios\n",
    " *  Função de ativação: tangente hiperbólica\n",
    " *  Utiliza atributos categóricos\n",
    " *  Resultados da etapa anterior: acurácia = 0.7056 +-0.0032, F-Score = 0.6904 +-0.0038\n",
    " *  10 repetições\n"
   ]
  },
  {
   "cell_type": "markdown",
   "metadata": {
    "id": "6SU6DmnzXn50"
   },
   "source": [
    "#### Importação das bibliotecas"
   ]
  },
  {
   "cell_type": "code",
   "execution_count": 46,
   "metadata": {
    "executionInfo": {
     "elapsed": 1284,
     "status": "ok",
     "timestamp": 1604148261643,
     "user": {
      "displayName": "jonatas travessa",
      "photoUrl": "",
      "userId": "05357548487657667512"
     },
     "user_tz": 240
    },
    "id": "yTWNKJfnXhf7"
   },
   "outputs": [],
   "source": [
    "from sklearn.metrics import f1_score, accuracy_score, make_scorer, plot_confusion_matrix, confusion_matrix, classification_report\n",
    "from sklearn.model_selection import train_test_split\n",
    "from sklearn.utils._testing import ignore_warnings\n",
    "from sklearn.exceptions import ConvergenceWarning\n",
    "from sklearn.model_selection import GridSearchCV\n",
    "from sklearn.neural_network import MLPClassifier\n",
    "import matplotlib.pyplot as plt\n",
    "import pandas as pd\n",
    "import numpy as np\n",
    "import pickle"
   ]
  },
  {
   "cell_type": "markdown",
   "metadata": {
    "id": "Vq2BwrMHW0Cr"
   },
   "source": [
    "#### Base de dados"
   ]
  },
  {
   "cell_type": "code",
   "execution_count": 2,
   "metadata": {
    "colab": {
     "base_uri": "https://localhost:8080/",
     "height": 81,
     "resources": {
      "http://localhost:8080/nbextensions/google.colab/files.js": {
       "data": "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",
       "headers": [
        [
         "content-type",
         "application/javascript"
        ]
       ],
       "ok": true,
       "status": 200,
       "status_text": "OK"
      }
     }
    },
    "executionInfo": {
     "elapsed": 1614541,
     "status": "ok",
     "timestamp": 1604147377679,
     "user": {
      "displayName": "jonatas travessa",
      "photoUrl": "",
      "userId": "05357548487657667512"
     },
     "user_tz": 240
    },
    "id": "NRXKwkHXUO-q",
    "outputId": "7f9944fe-0399-4e7a-c87c-83063dac4a78"
   },
   "outputs": [
    {
     "data": {
      "text/html": [
       "\n",
       "     <input type=\"file\" id=\"files-bbd0023d-84ba-4725-a87a-77e718302e23\" name=\"files[]\" multiple disabled\n",
       "        style=\"border:none\" />\n",
       "     <output id=\"result-bbd0023d-84ba-4725-a87a-77e718302e23\">\n",
       "      Upload widget is only available when the cell has been executed in the\n",
       "      current browser session. Please rerun this cell to enable.\n",
       "      </output>\n",
       "      <script src=\"/nbextensions/google.colab/files.js\"></script> "
      ],
      "text/plain": [
       "<IPython.core.display.HTML object>"
      ]
     },
     "metadata": {
      "tags": []
     },
     "output_type": "display_data"
    },
    {
     "name": "stdout",
     "output_type": "stream",
     "text": [
      "Saving covtype.csv to covtype.csv\n"
     ]
    }
   ],
   "source": [
    "from google.colab import files\n",
    "uploaded = files.upload()"
   ]
  },
  {
   "cell_type": "code",
   "execution_count": 2,
   "metadata": {
    "colab": {
     "base_uri": "https://localhost:8080/",
     "height": 444
    },
    "executionInfo": {
     "elapsed": 2879,
     "status": "ok",
     "timestamp": 1604147382391,
     "user": {
      "displayName": "jonatas travessa",
      "photoUrl": "",
      "userId": "05357548487657667512"
     },
     "user_tz": 240
    },
    "id": "-nIu6RSBV4Hk",
    "outputId": "50e082fb-3052-497c-e52b-6e4a788e34e6"
   },
   "outputs": [],
   "source": [
    "data = pd.read_csv('covtype.csv')"
   ]
  },
  {
   "cell_type": "markdown",
   "metadata": {
    "id": "9N6NSMm_Wnq6"
   },
   "source": [
    "### Redes que não usam os atributos categóricos"
   ]
  },
  {
   "cell_type": "markdown",
   "metadata": {
    "id": "DvAn8dScVtDc"
   },
   "source": [
    "#### Removendo os atributos categóricos"
   ]
  },
  {
   "cell_type": "code",
   "execution_count": 15,
   "metadata": {
    "colab": {
     "base_uri": "https://localhost:8080/",
     "height": 444
    },
    "executionInfo": {
     "elapsed": 1532,
     "status": "ok",
     "timestamp": 1604147386672,
     "user": {
      "displayName": "jonatas travessa",
      "photoUrl": "",
      "userId": "05357548487657667512"
     },
     "user_tz": 240
    },
    "id": "JbiP4FyiWBYw",
    "outputId": "949c9fbd-7883-4b1b-f57a-eb984fa998ee"
   },
   "outputs": [],
   "source": [
    "#Gerando o dataset sem os atributos categoricos\n",
    "columns_out = []\n",
    "\n",
    "for i in range(1, 5):\n",
    "    columns_out.append('Wilderness_Area' + str(i))\n",
    "    \n",
    "for i in range(1, 41):\n",
    "    columns_out.append('Soil_Type' + str(i))\n",
    "    \n",
    "data_num = data.drop(columns=columns_out)"
   ]
  },
  {
   "cell_type": "code",
   "execution_count": 16,
   "metadata": {
    "colab": {
     "base_uri": "https://localhost:8080/",
     "height": 444
    },
    "executionInfo": {
     "elapsed": 1128,
     "status": "ok",
     "timestamp": 1604147390682,
     "user": {
      "displayName": "jonatas travessa",
      "photoUrl": "",
      "userId": "05357548487657667512"
     },
     "user_tz": 240
    },
    "id": "NgLVs8l6XEiW",
    "outputId": "2ff07343-411a-4ef2-b423-95a1b5074308"
   },
   "outputs": [],
   "source": [
    "#Dataframe apenas com os atributos preditores\n",
    "data_atr = data_num.drop(columns=['Cover_Type'])"
   ]
  },
  {
   "cell_type": "code",
   "execution_count": 17,
   "metadata": {
    "executionInfo": {
     "elapsed": 1622,
     "status": "ok",
     "timestamp": 1604147394363,
     "user": {
      "displayName": "jonatas travessa",
      "photoUrl": "",
      "userId": "05357548487657667512"
     },
     "user_tz": 240
    },
    "id": "B6ozWUlDXJxf"
   },
   "outputs": [],
   "source": [
    "#Atributos preditivos\n",
    "X = np.array(data_atr[0:])\n",
    "\n",
    "#Atributo alvo\n",
    "y = data['Cover_Type'].to_numpy()"
   ]
  },
  {
   "cell_type": "code",
   "execution_count": 18,
   "metadata": {
    "executionInfo": {
     "elapsed": 1500,
     "status": "ok",
     "timestamp": 1604147397424,
     "user": {
      "displayName": "jonatas travessa",
      "photoUrl": "",
      "userId": "05357548487657667512"
     },
     "user_tz": 240
    },
    "id": "UjKR0Q3Z8G1_"
   },
   "outputs": [],
   "source": [
    "#Separando os dados em treino e teste da mesma forma como feito no pp3.3\n",
    "X_train, X_test, y_train, y_test = train_test_split(X, y, test_size=0.3)"
   ]
  },
  {
   "cell_type": "markdown",
   "metadata": {
    "id": "-PsUX25mV7Ef"
   },
   "source": [
    "#### Grid search"
   ]
  },
  {
   "cell_type": "code",
   "execution_count": 19,
   "metadata": {
    "executionInfo": {
     "elapsed": 1524,
     "status": "ok",
     "timestamp": 1604147400919,
     "user": {
      "displayName": "jonatas travessa",
      "photoUrl": "",
      "userId": "05357548487657667512"
     },
     "user_tz": 240
    },
    "id": "yf8xTIONMcx-"
   },
   "outputs": [],
   "source": [
    "#Parâmetros para a busca em grade (GridSearch)\n",
    "parameter_space = {'solver': ['sgd','adam'],\n",
    "                   'batch_size': [32, 512],\n",
    "                   'learning_rate_init': [0.001, 0.01],\n",
    "                   'max_iter': [300],\n",
    "                   'n_iter_no_change': [10]}"
   ]
  },
  {
   "cell_type": "code",
   "execution_count": 20,
   "metadata": {
    "executionInfo": {
     "elapsed": 1400,
     "status": "ok",
     "timestamp": 1604147404703,
     "user": {
      "displayName": "jonatas travessa",
      "photoUrl": "",
      "userId": "05357548487657667512"
     },
     "user_tz": 240
    },
    "id": "l8Y7IcJaFuzy"
   },
   "outputs": [],
   "source": [
    "#Usar o F-Score e a acurácia como métricas de desempenho\n",
    "scores = {'F-Score': make_scorer(f1_score , average='weighted'),\n",
    "          'Accuracy': make_scorer(accuracy_score)}\n",
    "\n",
    "#Usar o F-Score como principal métrica de desempenho\n",
    "metric = 'F-Score'"
   ]
  },
  {
   "cell_type": "code",
   "execution_count": 21,
   "metadata": {
    "executionInfo": {
     "elapsed": 799,
     "status": "ok",
     "timestamp": 1604147406738,
     "user": {
      "displayName": "jonatas travessa",
      "photoUrl": "",
      "userId": "05357548487657667512"
     },
     "user_tz": 240
    },
    "id": "lnTaRTUDrreq"
   },
   "outputs": [],
   "source": [
    "#Função para o grid search para uma arquitetura\n",
    "@ignore_warnings(category=ConvergenceWarning)\n",
    "def gs(architecture):\n",
    "\n",
    "    #Escalonamento dos atributos\n",
    "    X_train_std = (X_train - np.mean(X_train))/np.std(X_train)\n",
    "\n",
    "    model_gs = MLPClassifier(hidden_layer_sizes=architecture[0], activation=architecture[1])\n",
    "    clf = GridSearchCV(model_gs, parameter_space, scoring=scores, n_jobs=-1, refit=metric, cv=5, verbose=160)\n",
    "    clf.fit(X_train_std, y_train)\n",
    "\n",
    "    return clf"
   ]
  },
  {
   "cell_type": "code",
   "execution_count": 22,
   "metadata": {
    "executionInfo": {
     "elapsed": 795,
     "status": "ok",
     "timestamp": 1604147409203,
     "user": {
      "displayName": "jonatas travessa",
      "photoUrl": "",
      "userId": "05357548487657667512"
     },
     "user_tz": 240
    },
    "id": "lCvMZ1t6EUBv"
   },
   "outputs": [],
   "source": [
    "#Função para apresentação dos F-Score por conjunto de parâmetros\n",
    "def fs(gridsearch):\n",
    "\n",
    "    print(\"\")\n",
    "    print(\"F-Score por configuração\")\n",
    "    means = gridsearch.cv_results_['mean_test_F-Score']\n",
    "    stds = gridsearch.cv_results_['std_test_F-Score']\n",
    "    for mean, std, params in zip(means, stds, gridsearch.cv_results_['params']):\n",
    "        print(\"%0.4f (+/-%0.04f) para %r\" % (mean, std * 2, params))\n",
    "        print(\"---------------------------------------------------\")"
   ]
  },
  {
   "cell_type": "code",
   "execution_count": 23,
   "metadata": {
    "executionInfo": {
     "elapsed": 1551,
     "status": "ok",
     "timestamp": 1604147412099,
     "user": {
      "displayName": "jonatas travessa",
      "photoUrl": "",
      "userId": "05357548487657667512"
     },
     "user_tz": 240
    },
    "id": "wMV3ZpkHFc6d"
   },
   "outputs": [],
   "source": [
    "#Função para apresentação das acurácias por conjunto de parâmetros\n",
    "def acc(gridsearch):\n",
    "    print(\"\")\n",
    "    print(\"Acurácia por configuração\")\n",
    "    means = gridsearch.cv_results_['mean_test_Accuracy']\n",
    "    stds = gridsearch.cv_results_['std_test_Accuracy']\n",
    "    for mean, std, params in zip(means, stds, gridsearch.cv_results_['params']):\n",
    "        print(\"%0.4f (+/-%0.04f) para %r\" % (mean, std * 2, params))\n",
    "        print(\"---------------------------------------------------\")"
   ]
  },
  {
   "cell_type": "code",
   "execution_count": 24,
   "metadata": {
    "executionInfo": {
     "elapsed": 956,
     "status": "ok",
     "timestamp": 1604147414166,
     "user": {
      "displayName": "jonatas travessa",
      "photoUrl": "",
      "userId": "05357548487657667512"
     },
     "user_tz": 240
    },
    "id": "YGPaplN8BH-o"
   },
   "outputs": [],
   "source": [
    "#Função para apresentação dos resultados\n",
    "def results(gridsearch):\n",
    "\n",
    "    print(\"\")\n",
    "    print(\"Melhores parâmetros encontrados:\\n\", gridsearch.best_params_)\n",
    "\n",
    "    fs(gridsearch)\n",
    "\n",
    "    acc(gridsearch)\n",
    "\n",
    "    print(\"---------------------------------------------------\")\n",
    "    print(\"\")"
   ]
  },
  {
   "cell_type": "markdown",
   "metadata": {},
   "source": [
    "Arquitetura 1\n",
    "\n",
    "*  2 camadas ocultas, a primeira camada oculta tem 10 neurônios, a segunda camada oculta tem 9 neurônios\n",
    "*  Função de ativação: ReLU"
   ]
  },
  {
   "cell_type": "code",
   "execution_count": 25,
   "metadata": {},
   "outputs": [
    {
     "name": "stdout",
     "output_type": "stream",
     "text": [
      "\n",
      "Arquitetura 1\n",
      "\n",
      "Fitting 5 folds for each of 8 candidates, totalling 40 fits\n",
      "[Parallel(n_jobs=-1)]: Using backend LokyBackend with 4 concurrent workers.\n",
      "[Parallel(n_jobs=-1)]: Done   1 tasks      | elapsed: 31.6min\n",
      "[Parallel(n_jobs=-1)]: Done   2 tasks      | elapsed: 33.0min\n",
      "[Parallel(n_jobs=-1)]: Done   3 tasks      | elapsed: 42.7min\n",
      "[Parallel(n_jobs=-1)]: Done   4 tasks      | elapsed: 46.6min\n",
      "[Parallel(n_jobs=-1)]: Done   5 tasks      | elapsed: 70.9min\n",
      "[Parallel(n_jobs=-1)]: Done   6 tasks      | elapsed: 83.2min\n",
      "[Parallel(n_jobs=-1)]: Done   7 tasks      | elapsed: 85.8min\n",
      "[Parallel(n_jobs=-1)]: Done   8 tasks      | elapsed: 90.9min\n",
      "[Parallel(n_jobs=-1)]: Done   9 tasks      | elapsed: 98.4min\n",
      "[Parallel(n_jobs=-1)]: Done  10 tasks      | elapsed: 119.1min\n",
      "[Parallel(n_jobs=-1)]: Done  11 tasks      | elapsed: 121.7min\n",
      "[Parallel(n_jobs=-1)]: Done  12 tasks      | elapsed: 129.8min\n",
      "[Parallel(n_jobs=-1)]: Done  13 tasks      | elapsed: 130.1min\n",
      "[Parallel(n_jobs=-1)]: Done  14 tasks      | elapsed: 131.5min\n",
      "[Parallel(n_jobs=-1)]: Done  15 tasks      | elapsed: 142.3min\n",
      "[Parallel(n_jobs=-1)]: Done  16 tasks      | elapsed: 149.1min\n",
      "[Parallel(n_jobs=-1)]: Done  17 tasks      | elapsed: 151.1min\n",
      "[Parallel(n_jobs=-1)]: Done  18 tasks      | elapsed: 152.6min\n",
      "[Parallel(n_jobs=-1)]: Done  19 tasks      | elapsed: 157.3min\n",
      "[Parallel(n_jobs=-1)]: Done  20 tasks      | elapsed: 158.8min\n",
      "[Parallel(n_jobs=-1)]: Done  21 tasks      | elapsed: 163.6min\n",
      "[Parallel(n_jobs=-1)]: Done  22 tasks      | elapsed: 164.6min\n",
      "[Parallel(n_jobs=-1)]: Done  23 tasks      | elapsed: 165.2min\n",
      "[Parallel(n_jobs=-1)]: Done  24 tasks      | elapsed: 167.9min\n",
      "[Parallel(n_jobs=-1)]: Done  25 tasks      | elapsed: 173.5min\n",
      "[Parallel(n_jobs=-1)]: Done  26 tasks      | elapsed: 175.6min\n",
      "[Parallel(n_jobs=-1)]: Done  27 tasks      | elapsed: 176.0min\n",
      "[Parallel(n_jobs=-1)]: Done  28 tasks      | elapsed: 176.3min\n",
      "[Parallel(n_jobs=-1)]: Done  29 tasks      | elapsed: 180.5min\n",
      "[Parallel(n_jobs=-1)]: Done  30 tasks      | elapsed: 181.5min\n",
      "[Parallel(n_jobs=-1)]: Done  31 tasks      | elapsed: 181.9min\n",
      "[Parallel(n_jobs=-1)]: Done  32 tasks      | elapsed: 184.1min\n",
      "[Parallel(n_jobs=-1)]: Done  33 tasks      | elapsed: 185.9min\n",
      "[Parallel(n_jobs=-1)]: Done  34 out of  40 | elapsed: 187.1min remaining: 33.0min\n",
      "[Parallel(n_jobs=-1)]: Done  35 out of  40 | elapsed: 187.7min remaining: 26.8min\n",
      "[Parallel(n_jobs=-1)]: Done  36 out of  40 | elapsed: 188.0min remaining: 20.9min\n",
      "[Parallel(n_jobs=-1)]: Done  37 out of  40 | elapsed: 188.9min remaining: 15.3min\n",
      "[Parallel(n_jobs=-1)]: Done  38 out of  40 | elapsed: 189.5min remaining: 10.0min\n",
      "[Parallel(n_jobs=-1)]: Done  40 out of  40 | elapsed: 190.6min remaining:    0.0s\n",
      "[Parallel(n_jobs=-1)]: Done  40 out of  40 | elapsed: 190.6min finished\n",
      "\n",
      "Melhores parâmetros encontrados:\n",
      " {'batch_size': 32, 'learning_rate_init': 0.001, 'max_iter': 300, 'n_iter_no_change': 10, 'solver': 'sgd'}\n",
      "\n",
      "F-Score por configuração\n",
      "0.7104 (+/-0.0087) para {'batch_size': 32, 'learning_rate_init': 0.001, 'max_iter': 300, 'n_iter_no_change': 10, 'solver': 'sgd'}\n",
      "---------------------------------------------------\n",
      "0.7091 (+/-0.0100) para {'batch_size': 32, 'learning_rate_init': 0.001, 'max_iter': 300, 'n_iter_no_change': 10, 'solver': 'adam'}\n",
      "---------------------------------------------------\n",
      "0.7021 (+/-0.0165) para {'batch_size': 32, 'learning_rate_init': 0.01, 'max_iter': 300, 'n_iter_no_change': 10, 'solver': 'sgd'}\n",
      "---------------------------------------------------\n",
      "0.6920 (+/-0.0109) para {'batch_size': 32, 'learning_rate_init': 0.01, 'max_iter': 300, 'n_iter_no_change': 10, 'solver': 'adam'}\n",
      "---------------------------------------------------\n",
      "0.6944 (+/-0.0062) para {'batch_size': 512, 'learning_rate_init': 0.001, 'max_iter': 300, 'n_iter_no_change': 10, 'solver': 'sgd'}\n",
      "---------------------------------------------------\n",
      "0.7044 (+/-0.0084) para {'batch_size': 512, 'learning_rate_init': 0.001, 'max_iter': 300, 'n_iter_no_change': 10, 'solver': 'adam'}\n",
      "---------------------------------------------------\n",
      "0.7087 (+/-0.0145) para {'batch_size': 512, 'learning_rate_init': 0.01, 'max_iter': 300, 'n_iter_no_change': 10, 'solver': 'sgd'}\n",
      "---------------------------------------------------\n",
      "0.7014 (+/-0.0205) para {'batch_size': 512, 'learning_rate_init': 0.01, 'max_iter': 300, 'n_iter_no_change': 10, 'solver': 'adam'}\n",
      "---------------------------------------------------\n",
      "\n",
      "Acurácia por configuração\n",
      "0.7233 (+/-0.0060) para {'batch_size': 32, 'learning_rate_init': 0.001, 'max_iter': 300, 'n_iter_no_change': 10, 'solver': 'sgd'}\n",
      "---------------------------------------------------\n",
      "0.7215 (+/-0.0087) para {'batch_size': 32, 'learning_rate_init': 0.001, 'max_iter': 300, 'n_iter_no_change': 10, 'solver': 'adam'}\n",
      "---------------------------------------------------\n",
      "0.7137 (+/-0.0162) para {'batch_size': 32, 'learning_rate_init': 0.01, 'max_iter': 300, 'n_iter_no_change': 10, 'solver': 'sgd'}\n",
      "---------------------------------------------------\n",
      "0.7073 (+/-0.0113) para {'batch_size': 32, 'learning_rate_init': 0.01, 'max_iter': 300, 'n_iter_no_change': 10, 'solver': 'adam'}\n",
      "---------------------------------------------------\n",
      "0.7112 (+/-0.0052) para {'batch_size': 512, 'learning_rate_init': 0.001, 'max_iter': 300, 'n_iter_no_change': 10, 'solver': 'sgd'}\n",
      "---------------------------------------------------\n",
      "0.7176 (+/-0.0075) para {'batch_size': 512, 'learning_rate_init': 0.001, 'max_iter': 300, 'n_iter_no_change': 10, 'solver': 'adam'}\n",
      "---------------------------------------------------\n",
      "0.7220 (+/-0.0092) para {'batch_size': 512, 'learning_rate_init': 0.01, 'max_iter': 300, 'n_iter_no_change': 10, 'solver': 'sgd'}\n",
      "---------------------------------------------------\n",
      "0.7143 (+/-0.0158) para {'batch_size': 512, 'learning_rate_init': 0.01, 'max_iter': 300, 'n_iter_no_change': 10, 'solver': 'adam'}\n",
      "---------------------------------------------------\n",
      "---------------------------------------------------\n",
      "\n"
     ]
    }
   ],
   "source": [
    "print(\"\")\n",
    "print(\"Arquitetura 1\")\n",
    "print(\"\")\n",
    "\n",
    "clf = gs([(10,9), 'relu'])\n",
    "\n",
    "results(clf)"
   ]
  },
  {
   "cell_type": "markdown",
   "metadata": {
    "id": "ofhjqEPsCZ74"
   },
   "source": [
    "Arquitetura 2\n",
    "\n",
    "*  1 camada oculta com 10 neurônios\n",
    "*  Função de ativação: logística\n",
    "\n"
   ]
  },
  {
   "cell_type": "code",
   "execution_count": 15,
   "metadata": {
    "colab": {
     "base_uri": "https://localhost:8080/"
    },
    "id": "tRwMX9aBrrfb",
    "outputId": "47329647-b161-4de3-f159-b80fe2950c4c"
   },
   "outputs": [
    {
     "name": "stdout",
     "output_type": "stream",
     "text": [
      "\n",
      "Arquitetura 2\n",
      "\n",
      "Fitting 5 folds for each of 8 candidates, totalling 40 fits\n",
      "[Parallel(n_jobs=-1)]: Using backend LokyBackend with 4 concurrent workers.\n",
      "[Parallel(n_jobs=-1)]: Done   1 tasks      | elapsed: 34.0min\n",
      "[Parallel(n_jobs=-1)]: Done   2 tasks      | elapsed: 35.3min\n",
      "[Parallel(n_jobs=-1)]: Done   3 tasks      | elapsed: 35.3min\n",
      "[Parallel(n_jobs=-1)]: Done   4 tasks      | elapsed: 35.3min\n",
      "[Parallel(n_jobs=-1)]: Done   5 tasks      | elapsed: 68.4min\n",
      "[Parallel(n_jobs=-1)]: Done   6 tasks      | elapsed: 69.6min\n",
      "[Parallel(n_jobs=-1)]: Done   7 tasks      | elapsed: 76.1min\n",
      "[Parallel(n_jobs=-1)]: Done   8 tasks      | elapsed: 76.3min\n",
      "[Parallel(n_jobs=-1)]: Done   9 tasks      | elapsed: 91.3min\n",
      "[Parallel(n_jobs=-1)]: Done  10 tasks      | elapsed: 91.9min\n",
      "[Parallel(n_jobs=-1)]: Done  11 tasks      | elapsed: 102.7min\n",
      "[Parallel(n_jobs=-1)]: Done  12 tasks      | elapsed: 109.7min\n",
      "[Parallel(n_jobs=-1)]: Done  13 tasks      | elapsed: 111.9min\n",
      "[Parallel(n_jobs=-1)]: Done  14 tasks      | elapsed: 113.6min\n",
      "[Parallel(n_jobs=-1)]: Done  15 tasks      | elapsed: 120.5min\n",
      "[Parallel(n_jobs=-1)]: Done  16 tasks      | elapsed: 120.6min\n",
      "[Parallel(n_jobs=-1)]: Done  17 tasks      | elapsed: 124.3min\n",
      "[Parallel(n_jobs=-1)]: Done  18 tasks      | elapsed: 126.7min\n",
      "[Parallel(n_jobs=-1)]: Done  19 tasks      | elapsed: 129.6min\n",
      "[Parallel(n_jobs=-1)]: Done  20 tasks      | elapsed: 132.0min\n",
      "[Parallel(n_jobs=-1)]: Done  21 tasks      | elapsed: 134.9min\n",
      "[Parallel(n_jobs=-1)]: Done  22 tasks      | elapsed: 135.3min\n",
      "[Parallel(n_jobs=-1)]: Done  23 tasks      | elapsed: 137.1min\n",
      "[Parallel(n_jobs=-1)]: Done  24 tasks      | elapsed: 137.3min\n",
      "[Parallel(n_jobs=-1)]: Done  25 tasks      | elapsed: 140.2min\n",
      "[Parallel(n_jobs=-1)]: Done  26 tasks      | elapsed: 140.9min\n",
      "[Parallel(n_jobs=-1)]: Done  27 tasks      | elapsed: 142.8min\n",
      "[Parallel(n_jobs=-1)]: Done  28 tasks      | elapsed: 142.9min\n",
      "[Parallel(n_jobs=-1)]: Done  29 tasks      | elapsed: 145.9min\n",
      "[Parallel(n_jobs=-1)]: Done  30 tasks      | elapsed: 146.6min\n",
      "[Parallel(n_jobs=-1)]: Done  31 tasks      | elapsed: 148.2min\n",
      "[Parallel(n_jobs=-1)]: Done  32 tasks      | elapsed: 148.4min\n",
      "[Parallel(n_jobs=-1)]: Done  33 tasks      | elapsed: 151.3min\n",
      "[Parallel(n_jobs=-1)]: Done  34 out of  40 | elapsed: 151.9min remaining: 26.8min\n",
      "[Parallel(n_jobs=-1)]: Done  35 out of  40 | elapsed: 152.0min remaining: 21.7min\n",
      "[Parallel(n_jobs=-1)]: Done  36 out of  40 | elapsed: 153.6min remaining: 17.1min\n",
      "[Parallel(n_jobs=-1)]: Done  37 out of  40 | elapsed: 155.9min remaining: 12.6min\n",
      "[Parallel(n_jobs=-1)]: Done  38 out of  40 | elapsed: 155.9min remaining:  8.2min\n",
      "[Parallel(n_jobs=-1)]: Done  40 out of  40 | elapsed: 156.7min remaining:    0.0s\n",
      "[Parallel(n_jobs=-1)]: Done  40 out of  40 | elapsed: 156.7min finished\n",
      "\n",
      "Melhores parâmetros encontrados:\n",
      " {'batch_size': 32, 'learning_rate_init': 0.001, 'max_iter': 300, 'n_iter_no_change': 10, 'solver': 'adam'}\n",
      "\n",
      "F-Score por configuração\n",
      "0.6990 (+/-0.0035) para {'batch_size': 32, 'learning_rate_init': 0.001, 'max_iter': 300, 'n_iter_no_change': 10, 'solver': 'sgd'}\n",
      "---------------------------------------------------\n",
      "0.7102 (+/-0.0068) para {'batch_size': 32, 'learning_rate_init': 0.001, 'max_iter': 300, 'n_iter_no_change': 10, 'solver': 'adam'}\n",
      "---------------------------------------------------\n",
      "0.7038 (+/-0.0121) para {'batch_size': 32, 'learning_rate_init': 0.01, 'max_iter': 300, 'n_iter_no_change': 10, 'solver': 'sgd'}\n",
      "---------------------------------------------------\n",
      "0.7081 (+/-0.0062) para {'batch_size': 32, 'learning_rate_init': 0.01, 'max_iter': 300, 'n_iter_no_change': 10, 'solver': 'adam'}\n",
      "---------------------------------------------------\n",
      "0.6534 (+/-0.0039) para {'batch_size': 512, 'learning_rate_init': 0.001, 'max_iter': 300, 'n_iter_no_change': 10, 'solver': 'sgd'}\n",
      "---------------------------------------------------\n",
      "0.6982 (+/-0.0083) para {'batch_size': 512, 'learning_rate_init': 0.001, 'max_iter': 300, 'n_iter_no_change': 10, 'solver': 'adam'}\n",
      "---------------------------------------------------\n",
      "0.6968 (+/-0.0037) para {'batch_size': 512, 'learning_rate_init': 0.01, 'max_iter': 300, 'n_iter_no_change': 10, 'solver': 'sgd'}\n",
      "---------------------------------------------------\n",
      "0.7095 (+/-0.0092) para {'batch_size': 512, 'learning_rate_init': 0.01, 'max_iter': 300, 'n_iter_no_change': 10, 'solver': 'adam'}\n",
      "---------------------------------------------------\n",
      "\n",
      "Acurácia por configuração\n",
      "0.7153 (+/-0.0047) para {'batch_size': 32, 'learning_rate_init': 0.001, 'max_iter': 300, 'n_iter_no_change': 10, 'solver': 'sgd'}\n",
      "---------------------------------------------------\n",
      "0.7226 (+/-0.0065) para {'batch_size': 32, 'learning_rate_init': 0.001, 'max_iter': 300, 'n_iter_no_change': 10, 'solver': 'adam'}\n",
      "---------------------------------------------------\n",
      "0.7179 (+/-0.0095) para {'batch_size': 32, 'learning_rate_init': 0.01, 'max_iter': 300, 'n_iter_no_change': 10, 'solver': 'sgd'}\n",
      "---------------------------------------------------\n",
      "0.7197 (+/-0.0088) para {'batch_size': 32, 'learning_rate_init': 0.01, 'max_iter': 300, 'n_iter_no_change': 10, 'solver': 'adam'}\n",
      "---------------------------------------------------\n",
      "0.6812 (+/-0.0047) para {'batch_size': 512, 'learning_rate_init': 0.001, 'max_iter': 300, 'n_iter_no_change': 10, 'solver': 'sgd'}\n",
      "---------------------------------------------------\n",
      "0.7119 (+/-0.0077) para {'batch_size': 512, 'learning_rate_init': 0.001, 'max_iter': 300, 'n_iter_no_change': 10, 'solver': 'adam'}\n",
      "---------------------------------------------------\n",
      "0.7130 (+/-0.0039) para {'batch_size': 512, 'learning_rate_init': 0.01, 'max_iter': 300, 'n_iter_no_change': 10, 'solver': 'sgd'}\n",
      "---------------------------------------------------\n",
      "0.7217 (+/-0.0076) para {'batch_size': 512, 'learning_rate_init': 0.01, 'max_iter': 300, 'n_iter_no_change': 10, 'solver': 'adam'}\n",
      "---------------------------------------------------\n",
      "---------------------------------------------------\n",
      "\n"
     ]
    }
   ],
   "source": [
    "print(\"\")\n",
    "print(\"Arquitetura 2\")\n",
    "print(\"\")\n",
    "\n",
    "clf = gs([(10,), 'logistic'])\n",
    "\n",
    "results(clf)\n"
   ]
  },
  {
   "cell_type": "markdown",
   "metadata": {},
   "source": [
    "3.  Arquitetura 3\n",
    " \n",
    " *  1 camada oculta com 9 neurônios\n",
    " *  Função de ativação: logística"
   ]
  },
  {
   "cell_type": "code",
   "execution_count": 26,
   "metadata": {},
   "outputs": [
    {
     "name": "stdout",
     "output_type": "stream",
     "text": [
      "\n",
      "Arquitetura 3\n",
      "\n",
      "Fitting 5 folds for each of 8 candidates, totalling 40 fits\n",
      "[Parallel(n_jobs=-1)]: Using backend LokyBackend with 4 concurrent workers.\n",
      "[Parallel(n_jobs=-1)]: Done   1 tasks      | elapsed: 31.6min\n",
      "[Parallel(n_jobs=-1)]: Done   2 tasks      | elapsed: 35.1min\n",
      "[Parallel(n_jobs=-1)]: Done   3 tasks      | elapsed: 35.2min\n",
      "[Parallel(n_jobs=-1)]: Done   4 tasks      | elapsed: 35.3min\n",
      "[Parallel(n_jobs=-1)]: Done   5 tasks      | elapsed: 66.4min\n",
      "[Parallel(n_jobs=-1)]: Done   6 tasks      | elapsed: 66.8min\n",
      "[Parallel(n_jobs=-1)]: Done   7 tasks      | elapsed: 74.4min\n",
      "[Parallel(n_jobs=-1)]: Done   8 tasks      | elapsed: 74.6min\n",
      "[Parallel(n_jobs=-1)]: Done   9 tasks      | elapsed: 91.8min\n",
      "[Parallel(n_jobs=-1)]: Done  10 tasks      | elapsed: 96.4min\n",
      "[Parallel(n_jobs=-1)]: Done  11 tasks      | elapsed: 98.9min\n",
      "[Parallel(n_jobs=-1)]: Done  12 tasks      | elapsed: 101.7min\n",
      "[Parallel(n_jobs=-1)]: Done  13 tasks      | elapsed: 109.2min\n",
      "[Parallel(n_jobs=-1)]: Done  14 tasks      | elapsed: 113.3min\n",
      "[Parallel(n_jobs=-1)]: Done  15 tasks      | elapsed: 114.3min\n",
      "[Parallel(n_jobs=-1)]: Done  16 tasks      | elapsed: 117.3min\n",
      "[Parallel(n_jobs=-1)]: Done  17 tasks      | elapsed: 124.0min\n",
      "[Parallel(n_jobs=-1)]: Done  18 tasks      | elapsed: 126.3min\n",
      "[Parallel(n_jobs=-1)]: Done  19 tasks      | elapsed: 129.2min\n",
      "[Parallel(n_jobs=-1)]: Done  20 tasks      | elapsed: 129.5min\n",
      "[Parallel(n_jobs=-1)]: Done  21 tasks      | elapsed: 131.5min\n",
      "[Parallel(n_jobs=-1)]: Done  22 tasks      | elapsed: 131.7min\n",
      "[Parallel(n_jobs=-1)]: Done  23 tasks      | elapsed: 134.5min\n",
      "[Parallel(n_jobs=-1)]: Done  24 tasks      | elapsed: 134.8min\n",
      "[Parallel(n_jobs=-1)]: Done  25 tasks      | elapsed: 136.8min\n",
      "[Parallel(n_jobs=-1)]: Done  26 tasks      | elapsed: 137.2min\n",
      "[Parallel(n_jobs=-1)]: Done  27 tasks      | elapsed: 140.0min\n",
      "[Parallel(n_jobs=-1)]: Done  28 tasks      | elapsed: 140.4min\n",
      "[Parallel(n_jobs=-1)]: Done  29 tasks      | elapsed: 142.0min\n",
      "[Parallel(n_jobs=-1)]: Done  30 tasks      | elapsed: 142.7min\n",
      "[Parallel(n_jobs=-1)]: Done  31 tasks      | elapsed: 145.3min\n",
      "[Parallel(n_jobs=-1)]: Done  32 tasks      | elapsed: 145.7min\n",
      "[Parallel(n_jobs=-1)]: Done  33 tasks      | elapsed: 147.3min\n",
      "[Parallel(n_jobs=-1)]: Done  34 out of  40 | elapsed: 148.0min remaining: 26.1min\n",
      "[Parallel(n_jobs=-1)]: Done  35 out of  40 | elapsed: 150.1min remaining: 21.4min\n",
      "[Parallel(n_jobs=-1)]: Done  36 out of  40 | elapsed: 150.5min remaining: 16.7min\n",
      "[Parallel(n_jobs=-1)]: Done  37 out of  40 | elapsed: 151.4min remaining: 12.3min\n",
      "[Parallel(n_jobs=-1)]: Done  38 out of  40 | elapsed: 152.1min remaining:  8.0min\n",
      "[Parallel(n_jobs=-1)]: Done  40 out of  40 | elapsed: 153.0min remaining:    0.0s\n",
      "[Parallel(n_jobs=-1)]: Done  40 out of  40 | elapsed: 153.0min finished\n",
      "\n",
      "Melhores parâmetros encontrados:\n",
      " {'batch_size': 32, 'learning_rate_init': 0.01, 'max_iter': 300, 'n_iter_no_change': 10, 'solver': 'adam'}\n",
      "\n",
      "F-Score por configuração\n",
      "0.6947 (+/-0.0039) para {'batch_size': 32, 'learning_rate_init': 0.001, 'max_iter': 300, 'n_iter_no_change': 10, 'solver': 'sgd'}\n",
      "---------------------------------------------------\n",
      "0.7012 (+/-0.0034) para {'batch_size': 32, 'learning_rate_init': 0.001, 'max_iter': 300, 'n_iter_no_change': 10, 'solver': 'adam'}\n",
      "---------------------------------------------------\n",
      "0.7036 (+/-0.0092) para {'batch_size': 32, 'learning_rate_init': 0.01, 'max_iter': 300, 'n_iter_no_change': 10, 'solver': 'sgd'}\n",
      "---------------------------------------------------\n",
      "0.7045 (+/-0.0058) para {'batch_size': 32, 'learning_rate_init': 0.01, 'max_iter': 300, 'n_iter_no_change': 10, 'solver': 'adam'}\n",
      "---------------------------------------------------\n",
      "0.6524 (+/-0.0046) para {'batch_size': 512, 'learning_rate_init': 0.001, 'max_iter': 300, 'n_iter_no_change': 10, 'solver': 'sgd'}\n",
      "---------------------------------------------------\n",
      "0.6953 (+/-0.0041) para {'batch_size': 512, 'learning_rate_init': 0.001, 'max_iter': 300, 'n_iter_no_change': 10, 'solver': 'adam'}\n",
      "---------------------------------------------------\n",
      "0.6899 (+/-0.0078) para {'batch_size': 512, 'learning_rate_init': 0.01, 'max_iter': 300, 'n_iter_no_change': 10, 'solver': 'sgd'}\n",
      "---------------------------------------------------\n",
      "0.7040 (+/-0.0083) para {'batch_size': 512, 'learning_rate_init': 0.01, 'max_iter': 300, 'n_iter_no_change': 10, 'solver': 'adam'}\n",
      "---------------------------------------------------\n",
      "\n",
      "Acurácia por configuração\n",
      "0.7119 (+/-0.0042) para {'batch_size': 32, 'learning_rate_init': 0.001, 'max_iter': 300, 'n_iter_no_change': 10, 'solver': 'sgd'}\n",
      "---------------------------------------------------\n",
      "0.7148 (+/-0.0050) para {'batch_size': 32, 'learning_rate_init': 0.001, 'max_iter': 300, 'n_iter_no_change': 10, 'solver': 'adam'}\n",
      "---------------------------------------------------\n",
      "0.7184 (+/-0.0080) para {'batch_size': 32, 'learning_rate_init': 0.01, 'max_iter': 300, 'n_iter_no_change': 10, 'solver': 'sgd'}\n",
      "---------------------------------------------------\n",
      "0.7165 (+/-0.0064) para {'batch_size': 32, 'learning_rate_init': 0.01, 'max_iter': 300, 'n_iter_no_change': 10, 'solver': 'adam'}\n",
      "---------------------------------------------------\n",
      "0.6802 (+/-0.0051) para {'batch_size': 512, 'learning_rate_init': 0.001, 'max_iter': 300, 'n_iter_no_change': 10, 'solver': 'sgd'}\n",
      "---------------------------------------------------\n",
      "0.7100 (+/-0.0042) para {'batch_size': 512, 'learning_rate_init': 0.001, 'max_iter': 300, 'n_iter_no_change': 10, 'solver': 'adam'}\n",
      "---------------------------------------------------\n",
      "0.7079 (+/-0.0078) para {'batch_size': 512, 'learning_rate_init': 0.01, 'max_iter': 300, 'n_iter_no_change': 10, 'solver': 'sgd'}\n",
      "---------------------------------------------------\n",
      "0.7167 (+/-0.0077) para {'batch_size': 512, 'learning_rate_init': 0.01, 'max_iter': 300, 'n_iter_no_change': 10, 'solver': 'adam'}\n",
      "---------------------------------------------------\n",
      "---------------------------------------------------\n",
      "\n"
     ]
    }
   ],
   "source": [
    "print(\"\")\n",
    "print(\"Arquitetura 3\")\n",
    "print(\"\")\n",
    "\n",
    "clf = gs([(9,), 'logistic'])\n",
    "\n",
    "results(clf)"
   ]
  },
  {
   "cell_type": "markdown",
   "metadata": {},
   "source": [
    "### Redes que usam os atributos categóricos"
   ]
  },
  {
   "cell_type": "code",
   "execution_count": 3,
   "metadata": {},
   "outputs": [],
   "source": [
    "#Dataframe com os atributos preditores numéricos e categóricos\n",
    "data_atr_c = data.drop(columns=['Cover_Type'])"
   ]
  },
  {
   "cell_type": "code",
   "execution_count": 64,
   "metadata": {},
   "outputs": [
    {
     "data": {
      "text/plain": [
       "array([5, 5, 2, ..., 3, 3, 3])"
      ]
     },
     "execution_count": 64,
     "metadata": {},
     "output_type": "execute_result"
    }
   ],
   "source": [
    "#Atributos preditivos\n",
    "X = np.array(data_atr_c[0:])\n",
    "\n",
    "#Atributo alvo\n",
    "y = data['Cover_Type'].to_numpy()"
   ]
  },
  {
   "cell_type": "code",
   "execution_count": 59,
   "metadata": {},
   "outputs": [],
   "source": [
    "#Separando os dados em treino e teste da mesma forma como feito no pp3.3\n",
    "X_train, X_test, y_train, y_test = train_test_split(X, y, test_size=0.3)"
   ]
  },
  {
   "cell_type": "markdown",
   "metadata": {},
   "source": [
    "4  Arquitetura 4\n",
    " \n",
    " *  1 camada oculta com 10 neurônios\n",
    " *  Função de ativação: tangente hiperbólica"
   ]
  },
  {
   "cell_type": "code",
   "execution_count": 12,
   "metadata": {},
   "outputs": [
    {
     "name": "stdout",
     "output_type": "stream",
     "text": [
      "\n",
      "Arquitetura 4\n",
      "\n",
      "Fitting 5 folds for each of 8 candidates, totalling 40 fits\n",
      "[Parallel(n_jobs=-1)]: Using backend LokyBackend with 4 concurrent workers.\n",
      "[Parallel(n_jobs=-1)]: Done   1 tasks      | elapsed: 20.9min\n",
      "[Parallel(n_jobs=-1)]: Done   2 tasks      | elapsed: 24.7min\n",
      "[Parallel(n_jobs=-1)]: Done   3 tasks      | elapsed: 27.2min\n",
      "[Parallel(n_jobs=-1)]: Done   4 tasks      | elapsed: 30.5min\n",
      "[Parallel(n_jobs=-1)]: Done   5 tasks      | elapsed: 44.2min\n",
      "[Parallel(n_jobs=-1)]: Done   6 tasks      | elapsed: 46.0min\n",
      "[Parallel(n_jobs=-1)]: Done   7 tasks      | elapsed: 49.2min\n",
      "[Parallel(n_jobs=-1)]: Done   8 tasks      | elapsed: 49.5min\n",
      "[Parallel(n_jobs=-1)]: Done   9 tasks      | elapsed: 60.8min\n",
      "[Parallel(n_jobs=-1)]: Done  10 tasks      | elapsed: 62.4min\n",
      "[Parallel(n_jobs=-1)]: Done  11 tasks      | elapsed: 65.8min\n",
      "[Parallel(n_jobs=-1)]: Done  12 tasks      | elapsed: 71.0min\n",
      "[Parallel(n_jobs=-1)]: Done  13 tasks      | elapsed: 76.9min\n",
      "[Parallel(n_jobs=-1)]: Done  14 tasks      | elapsed: 77.9min\n",
      "[Parallel(n_jobs=-1)]: Done  15 tasks      | elapsed: 79.4min\n",
      "[Parallel(n_jobs=-1)]: Done  16 tasks      | elapsed: 80.5min\n",
      "[Parallel(n_jobs=-1)]: Done  17 tasks      | elapsed: 82.0min\n",
      "[Parallel(n_jobs=-1)]: Done  18 tasks      | elapsed: 84.5min\n",
      "[Parallel(n_jobs=-1)]: Done  19 tasks      | elapsed: 85.0min\n",
      "[Parallel(n_jobs=-1)]: Done  20 tasks      | elapsed: 86.8min\n",
      "[Parallel(n_jobs=-1)]: Done  21 tasks      | elapsed: 88.8min\n",
      "[Parallel(n_jobs=-1)]: Done  22 tasks      | elapsed: 91.6min\n",
      "[Parallel(n_jobs=-1)]: Done  23 tasks      | elapsed: 92.1min\n",
      "[Parallel(n_jobs=-1)]: Done  24 tasks      | elapsed: 93.9min\n",
      "[Parallel(n_jobs=-1)]: Done  25 tasks      | elapsed: 95.9min\n",
      "[Parallel(n_jobs=-1)]: Done  26 tasks      | elapsed: 96.9min\n",
      "[Parallel(n_jobs=-1)]: Done  27 tasks      | elapsed: 99.3min\n",
      "[Parallel(n_jobs=-1)]: Done  28 tasks      | elapsed: 99.9min\n",
      "[Parallel(n_jobs=-1)]: Done  29 tasks      | elapsed: 101.1min\n",
      "[Parallel(n_jobs=-1)]: Done  30 tasks      | elapsed: 102.3min\n",
      "[Parallel(n_jobs=-1)]: Done  31 tasks      | elapsed: 105.6min\n",
      "[Parallel(n_jobs=-1)]: Done  32 tasks      | elapsed: 106.5min\n",
      "[Parallel(n_jobs=-1)]: Done  33 tasks      | elapsed: 107.7min\n",
      "[Parallel(n_jobs=-1)]: Done  34 out of  40 | elapsed: 108.7min remaining: 19.2min\n",
      "[Parallel(n_jobs=-1)]: Done  35 out of  40 | elapsed: 109.3min remaining: 15.6min\n",
      "[Parallel(n_jobs=-1)]: Done  36 out of  40 | elapsed: 109.5min remaining: 12.2min\n",
      "[Parallel(n_jobs=-1)]: Done  37 out of  40 | elapsed: 110.7min remaining:  9.0min\n",
      "[Parallel(n_jobs=-1)]: Done  38 out of  40 | elapsed: 111.7min remaining:  5.9min\n",
      "[Parallel(n_jobs=-1)]: Done  40 out of  40 | elapsed: 112.2min remaining:    0.0s\n",
      "[Parallel(n_jobs=-1)]: Done  40 out of  40 | elapsed: 112.2min finished\n",
      "\n",
      "Melhores parâmetros encontrados:\n",
      " {'batch_size': 32, 'learning_rate_init': 0.001, 'max_iter': 300, 'n_iter_no_change': 10, 'solver': 'adam'}\n",
      "\n",
      "F-Score por configuração\n",
      "0.7031 (+/-0.0066) para {'batch_size': 32, 'learning_rate_init': 0.001, 'max_iter': 300, 'n_iter_no_change': 10, 'solver': 'sgd'}\n",
      "---------------------------------------------------\n",
      "0.7115 (+/-0.0059) para {'batch_size': 32, 'learning_rate_init': 0.001, 'max_iter': 300, 'n_iter_no_change': 10, 'solver': 'adam'}\n",
      "---------------------------------------------------\n",
      "0.7041 (+/-0.0141) para {'batch_size': 32, 'learning_rate_init': 0.01, 'max_iter': 300, 'n_iter_no_change': 10, 'solver': 'sgd'}\n",
      "---------------------------------------------------\n",
      "0.6869 (+/-0.0133) para {'batch_size': 32, 'learning_rate_init': 0.01, 'max_iter': 300, 'n_iter_no_change': 10, 'solver': 'adam'}\n",
      "---------------------------------------------------\n",
      "0.6861 (+/-0.0043) para {'batch_size': 512, 'learning_rate_init': 0.001, 'max_iter': 300, 'n_iter_no_change': 10, 'solver': 'sgd'}\n",
      "---------------------------------------------------\n",
      "0.7098 (+/-0.0060) para {'batch_size': 512, 'learning_rate_init': 0.001, 'max_iter': 300, 'n_iter_no_change': 10, 'solver': 'adam'}\n",
      "---------------------------------------------------\n",
      "0.7044 (+/-0.0039) para {'batch_size': 512, 'learning_rate_init': 0.01, 'max_iter': 300, 'n_iter_no_change': 10, 'solver': 'sgd'}\n",
      "---------------------------------------------------\n",
      "0.7079 (+/-0.0081) para {'batch_size': 512, 'learning_rate_init': 0.01, 'max_iter': 300, 'n_iter_no_change': 10, 'solver': 'adam'}\n",
      "---------------------------------------------------\n",
      "\n",
      "Acurácia por configuração\n",
      "0.7149 (+/-0.0063) para {'batch_size': 32, 'learning_rate_init': 0.001, 'max_iter': 300, 'n_iter_no_change': 10, 'solver': 'sgd'}\n",
      "---------------------------------------------------\n",
      "0.7227 (+/-0.0051) para {'batch_size': 32, 'learning_rate_init': 0.001, 'max_iter': 300, 'n_iter_no_change': 10, 'solver': 'adam'}\n",
      "---------------------------------------------------\n",
      "0.7160 (+/-0.0177) para {'batch_size': 32, 'learning_rate_init': 0.01, 'max_iter': 300, 'n_iter_no_change': 10, 'solver': 'sgd'}\n",
      "---------------------------------------------------\n",
      "0.7025 (+/-0.0128) para {'batch_size': 32, 'learning_rate_init': 0.01, 'max_iter': 300, 'n_iter_no_change': 10, 'solver': 'adam'}\n",
      "---------------------------------------------------\n",
      "0.7047 (+/-0.0040) para {'batch_size': 512, 'learning_rate_init': 0.001, 'max_iter': 300, 'n_iter_no_change': 10, 'solver': 'sgd'}\n",
      "---------------------------------------------------\n",
      "0.7206 (+/-0.0040) para {'batch_size': 512, 'learning_rate_init': 0.001, 'max_iter': 300, 'n_iter_no_change': 10, 'solver': 'adam'}\n",
      "---------------------------------------------------\n",
      "0.7155 (+/-0.0047) para {'batch_size': 512, 'learning_rate_init': 0.01, 'max_iter': 300, 'n_iter_no_change': 10, 'solver': 'sgd'}\n",
      "---------------------------------------------------\n",
      "0.7173 (+/-0.0062) para {'batch_size': 512, 'learning_rate_init': 0.01, 'max_iter': 300, 'n_iter_no_change': 10, 'solver': 'adam'}\n",
      "---------------------------------------------------\n",
      "---------------------------------------------------\n",
      "\n"
     ]
    }
   ],
   "source": [
    "print(\"\")\n",
    "print(\"Arquitetura 4\")\n",
    "print(\"\")\n",
    "\n",
    "clf = gs([(10,), 'tanh'])\n",
    "\n",
    "results(clf)"
   ]
  },
  {
   "cell_type": "markdown",
   "metadata": {},
   "source": [
    "Arquitetura 5\n",
    "\n",
    "*  1 camada oculta com 9 neurônios\n",
    "*  Função de ativação: ReLU"
   ]
  },
  {
   "cell_type": "code",
   "execution_count": 19,
   "metadata": {
    "colab": {
     "base_uri": "https://localhost:8080/"
    },
    "executionInfo": {
     "elapsed": 723,
     "status": "ok",
     "timestamp": 1604103277755,
     "user": {
      "displayName": "jonatas travessa",
      "photoUrl": "",
      "userId": "05357548487657667512"
     },
     "user_tz": 240
    },
    "id": "zBr8lFWc__D3",
    "outputId": "457360ff-94f5-45f3-9f94-590e5ba141f0"
   },
   "outputs": [
    {
     "name": "stdout",
     "output_type": "stream",
     "text": [
      "\n",
      "Arquitetura 5\n",
      "\n",
      "Fitting 5 folds for each of 8 candidates, totalling 40 fits\n",
      "[Parallel(n_jobs=-1)]: Using backend LokyBackend with 4 concurrent workers.\n",
      "[Parallel(n_jobs=-1)]: Done   1 tasks      | elapsed: 20.2min\n",
      "[Parallel(n_jobs=-1)]: Done   2 tasks      | elapsed: 22.7min\n",
      "[Parallel(n_jobs=-1)]: Done   3 tasks      | elapsed: 24.4min\n",
      "[Parallel(n_jobs=-1)]: Done   4 tasks      | elapsed: 27.2min\n",
      "[Parallel(n_jobs=-1)]: Done   5 tasks      | elapsed: 39.9min\n",
      "[Parallel(n_jobs=-1)]: Done   6 tasks      | elapsed: 41.2min\n",
      "[Parallel(n_jobs=-1)]: Done   7 tasks      | elapsed: 41.9min\n",
      "[Parallel(n_jobs=-1)]: Done   8 tasks      | elapsed: 44.1min\n",
      "[Parallel(n_jobs=-1)]: Done   9 tasks      | elapsed: 51.2min\n",
      "[Parallel(n_jobs=-1)]: Done  10 tasks      | elapsed: 53.4min\n",
      "[Parallel(n_jobs=-1)]: Done  11 tasks      | elapsed: 56.1min\n",
      "[Parallel(n_jobs=-1)]: Done  12 tasks      | elapsed: 59.5min\n",
      "[Parallel(n_jobs=-1)]: Done  13 tasks      | elapsed: 60.7min\n",
      "[Parallel(n_jobs=-1)]: Done  14 tasks      | elapsed: 61.8min\n",
      "[Parallel(n_jobs=-1)]: Done  15 tasks      | elapsed: 67.9min\n",
      "[Parallel(n_jobs=-1)]: Done  16 tasks      | elapsed: 69.1min\n",
      "[Parallel(n_jobs=-1)]: Done  17 tasks      | elapsed: 69.2min\n",
      "[Parallel(n_jobs=-1)]: Done  18 tasks      | elapsed: 69.7min\n",
      "[Parallel(n_jobs=-1)]: Done  19 tasks      | elapsed: 73.0min\n",
      "[Parallel(n_jobs=-1)]: Done  20 tasks      | elapsed: 73.0min\n",
      "[Parallel(n_jobs=-1)]: Done  21 tasks      | elapsed: 75.7min\n",
      "[Parallel(n_jobs=-1)]: Done  22 tasks      | elapsed: 75.8min\n",
      "[Parallel(n_jobs=-1)]: Done  23 tasks      | elapsed: 77.2min\n",
      "[Parallel(n_jobs=-1)]: Done  24 tasks      | elapsed: 77.4min\n",
      "[Parallel(n_jobs=-1)]: Done  25 tasks      | elapsed: 80.7min\n",
      "[Parallel(n_jobs=-1)]: Done  26 tasks      | elapsed: 81.0min\n",
      "[Parallel(n_jobs=-1)]: Done  27 tasks      | elapsed: 81.9min\n",
      "[Parallel(n_jobs=-1)]: Done  28 tasks      | elapsed: 83.3min\n",
      "[Parallel(n_jobs=-1)]: Done  29 tasks      | elapsed: 84.6min\n",
      "[Parallel(n_jobs=-1)]: Done  30 tasks      | elapsed: 85.0min\n",
      "[Parallel(n_jobs=-1)]: Done  31 tasks      | elapsed: 86.6min\n",
      "[Parallel(n_jobs=-1)]: Done  32 tasks      | elapsed: 86.7min\n",
      "[Parallel(n_jobs=-1)]: Done  33 tasks      | elapsed: 87.0min\n",
      "[Parallel(n_jobs=-1)]: Done  34 out of  40 | elapsed: 88.2min remaining: 15.6min\n",
      "[Parallel(n_jobs=-1)]: Done  35 out of  40 | elapsed: 88.7min remaining: 12.7min\n",
      "[Parallel(n_jobs=-1)]: Done  36 out of  40 | elapsed: 89.3min remaining:  9.9min\n",
      "[Parallel(n_jobs=-1)]: Done  37 out of  40 | elapsed: 89.9min remaining:  7.3min\n",
      "[Parallel(n_jobs=-1)]: Done  38 out of  40 | elapsed: 90.3min remaining:  4.8min\n",
      "[Parallel(n_jobs=-1)]: Done  40 out of  40 | elapsed: 95.0min remaining:    0.0s\n",
      "[Parallel(n_jobs=-1)]: Done  40 out of  40 | elapsed: 95.0min finished\n",
      "\n",
      "Melhores parâmetros encontrados:\n",
      " {'batch_size': 32, 'learning_rate_init': 0.001, 'max_iter': 300, 'n_iter_no_change': 10, 'solver': 'adam'}\n",
      "\n",
      "F-Score por configuração\n",
      "0.6865 (+/-0.0059) para {'batch_size': 32, 'learning_rate_init': 0.001, 'max_iter': 300, 'n_iter_no_change': 10, 'solver': 'sgd'}\n",
      "---------------------------------------------------\n",
      "0.7001 (+/-0.0086) para {'batch_size': 32, 'learning_rate_init': 0.001, 'max_iter': 300, 'n_iter_no_change': 10, 'solver': 'adam'}\n",
      "---------------------------------------------------\n",
      "0.6853 (+/-0.0082) para {'batch_size': 32, 'learning_rate_init': 0.01, 'max_iter': 300, 'n_iter_no_change': 10, 'solver': 'sgd'}\n",
      "---------------------------------------------------\n",
      "0.6750 (+/-0.0067) para {'batch_size': 32, 'learning_rate_init': 0.01, 'max_iter': 300, 'n_iter_no_change': 10, 'solver': 'adam'}\n",
      "---------------------------------------------------\n",
      "0.6781 (+/-0.0120) para {'batch_size': 512, 'learning_rate_init': 0.001, 'max_iter': 300, 'n_iter_no_change': 10, 'solver': 'sgd'}\n",
      "---------------------------------------------------\n",
      "0.6982 (+/-0.0153) para {'batch_size': 512, 'learning_rate_init': 0.001, 'max_iter': 300, 'n_iter_no_change': 10, 'solver': 'adam'}\n",
      "---------------------------------------------------\n",
      "0.6843 (+/-0.0158) para {'batch_size': 512, 'learning_rate_init': 0.01, 'max_iter': 300, 'n_iter_no_change': 10, 'solver': 'sgd'}\n",
      "---------------------------------------------------\n",
      "0.6920 (+/-0.0175) para {'batch_size': 512, 'learning_rate_init': 0.01, 'max_iter': 300, 'n_iter_no_change': 10, 'solver': 'adam'}\n",
      "---------------------------------------------------\n",
      "\n",
      "Acurácia por configuração\n",
      "0.7015 (+/-0.0049) para {'batch_size': 32, 'learning_rate_init': 0.001, 'max_iter': 300, 'n_iter_no_change': 10, 'solver': 'sgd'}\n",
      "---------------------------------------------------\n",
      "0.7115 (+/-0.0087) para {'batch_size': 32, 'learning_rate_init': 0.001, 'max_iter': 300, 'n_iter_no_change': 10, 'solver': 'adam'}\n",
      "---------------------------------------------------\n",
      "0.7021 (+/-0.0080) para {'batch_size': 32, 'learning_rate_init': 0.01, 'max_iter': 300, 'n_iter_no_change': 10, 'solver': 'sgd'}\n",
      "---------------------------------------------------\n",
      "0.6931 (+/-0.0096) para {'batch_size': 32, 'learning_rate_init': 0.01, 'max_iter': 300, 'n_iter_no_change': 10, 'solver': 'adam'}\n",
      "---------------------------------------------------\n",
      "0.6974 (+/-0.0085) para {'batch_size': 512, 'learning_rate_init': 0.001, 'max_iter': 300, 'n_iter_no_change': 10, 'solver': 'sgd'}\n",
      "---------------------------------------------------\n",
      "0.7103 (+/-0.0118) para {'batch_size': 512, 'learning_rate_init': 0.001, 'max_iter': 300, 'n_iter_no_change': 10, 'solver': 'adam'}\n",
      "---------------------------------------------------\n",
      "0.7019 (+/-0.0104) para {'batch_size': 512, 'learning_rate_init': 0.01, 'max_iter': 300, 'n_iter_no_change': 10, 'solver': 'sgd'}\n",
      "---------------------------------------------------\n",
      "0.7044 (+/-0.0149) para {'batch_size': 512, 'learning_rate_init': 0.01, 'max_iter': 300, 'n_iter_no_change': 10, 'solver': 'adam'}\n",
      "---------------------------------------------------\n",
      "---------------------------------------------------\n",
      "\n"
     ]
    }
   ],
   "source": [
    "print(\"\")\n",
    "print(\"Arquitetura 5\")\n",
    "print(\"\")\n",
    "\n",
    "clf = gs([(9,), 'relu'])\n",
    "\n",
    "results(clf)"
   ]
  },
  {
   "cell_type": "markdown",
   "metadata": {},
   "source": [
    "6.  Arquitetura 6\n",
    " \n",
    " *  1 camada oculta com 6 neurônios\n",
    " *  Função de ativação: tangente hiperbólica"
   ]
  },
  {
   "cell_type": "code",
   "execution_count": 13,
   "metadata": {},
   "outputs": [
    {
     "name": "stdout",
     "output_type": "stream",
     "text": [
      "\n",
      "Arquitetura 6\n",
      "\n",
      "Fitting 5 folds for each of 8 candidates, totalling 40 fits\n",
      "[Parallel(n_jobs=-1)]: Using backend LokyBackend with 4 concurrent workers.\n",
      "[Parallel(n_jobs=-1)]: Done   1 tasks      | elapsed: 17.6min\n",
      "[Parallel(n_jobs=-1)]: Done   2 tasks      | elapsed: 20.1min\n",
      "[Parallel(n_jobs=-1)]: Done   3 tasks      | elapsed: 20.2min\n",
      "[Parallel(n_jobs=-1)]: Done   4 tasks      | elapsed: 22.7min\n",
      "[Parallel(n_jobs=-1)]: Done   5 tasks      | elapsed: 36.0min\n",
      "[Parallel(n_jobs=-1)]: Done   6 tasks      | elapsed: 43.6min\n",
      "[Parallel(n_jobs=-1)]: Done   7 tasks      | elapsed: 44.9min\n",
      "[Parallel(n_jobs=-1)]: Done   8 tasks      | elapsed: 45.8min\n",
      "[Parallel(n_jobs=-1)]: Done   9 tasks      | elapsed: 53.7min\n",
      "[Parallel(n_jobs=-1)]: Done  10 tasks      | elapsed: 55.3min\n",
      "[Parallel(n_jobs=-1)]: Done  11 tasks      | elapsed: 55.4min\n",
      "[Parallel(n_jobs=-1)]: Done  12 tasks      | elapsed: 58.1min\n",
      "[Parallel(n_jobs=-1)]: Done  13 tasks      | elapsed: 60.3min\n",
      "[Parallel(n_jobs=-1)]: Done  14 tasks      | elapsed: 64.9min\n",
      "[Parallel(n_jobs=-1)]: Done  15 tasks      | elapsed: 65.3min\n",
      "[Parallel(n_jobs=-1)]: Done  16 tasks      | elapsed: 67.4min\n",
      "[Parallel(n_jobs=-1)]: Done  17 tasks      | elapsed: 67.7min\n",
      "[Parallel(n_jobs=-1)]: Done  18 tasks      | elapsed: 68.6min\n",
      "[Parallel(n_jobs=-1)]: Done  19 tasks      | elapsed: 73.5min\n",
      "[Parallel(n_jobs=-1)]: Done  20 tasks      | elapsed: 73.6min\n",
      "[Parallel(n_jobs=-1)]: Done  21 tasks      | elapsed: 74.3min\n",
      "[Parallel(n_jobs=-1)]: Done  22 tasks      | elapsed: 76.9min\n",
      "[Parallel(n_jobs=-1)]: Done  23 tasks      | elapsed: 78.9min\n",
      "[Parallel(n_jobs=-1)]: Done  24 tasks      | elapsed: 79.0min\n",
      "[Parallel(n_jobs=-1)]: Done  25 tasks      | elapsed: 79.2min\n",
      "[Parallel(n_jobs=-1)]: Done  26 tasks      | elapsed: 81.0min\n",
      "[Parallel(n_jobs=-1)]: Done  27 tasks      | elapsed: 82.4min\n",
      "[Parallel(n_jobs=-1)]: Done  28 tasks      | elapsed: 84.1min\n",
      "[Parallel(n_jobs=-1)]: Done  29 tasks      | elapsed: 85.6min\n",
      "[Parallel(n_jobs=-1)]: Done  30 tasks      | elapsed: 86.0min\n",
      "[Parallel(n_jobs=-1)]: Done  31 tasks      | elapsed: 87.4min\n",
      "[Parallel(n_jobs=-1)]: Done  32 tasks      | elapsed: 88.5min\n",
      "[Parallel(n_jobs=-1)]: Done  33 tasks      | elapsed: 90.1min\n",
      "[Parallel(n_jobs=-1)]: Done  34 out of  40 | elapsed: 90.5min remaining: 16.0min\n",
      "[Parallel(n_jobs=-1)]: Done  35 out of  40 | elapsed: 90.5min remaining: 12.9min\n",
      "[Parallel(n_jobs=-1)]: Done  36 out of  40 | elapsed: 91.5min remaining: 10.2min\n",
      "[Parallel(n_jobs=-1)]: Done  37 out of  40 | elapsed: 91.6min remaining:  7.4min\n",
      "[Parallel(n_jobs=-1)]: Done  38 out of  40 | elapsed: 92.1min remaining:  4.8min\n",
      "[Parallel(n_jobs=-1)]: Done  40 out of  40 | elapsed: 92.6min remaining:    0.0s\n",
      "[Parallel(n_jobs=-1)]: Done  40 out of  40 | elapsed: 92.6min finished\n",
      "\n",
      "Melhores parâmetros encontrados:\n",
      " {'batch_size': 32, 'learning_rate_init': 0.001, 'max_iter': 300, 'n_iter_no_change': 10, 'solver': 'adam'}\n",
      "\n",
      "F-Score por configuração\n",
      "0.6892 (+/-0.0056) para {'batch_size': 32, 'learning_rate_init': 0.001, 'max_iter': 300, 'n_iter_no_change': 10, 'solver': 'sgd'}\n",
      "---------------------------------------------------\n",
      "0.6973 (+/-0.0041) para {'batch_size': 32, 'learning_rate_init': 0.001, 'max_iter': 300, 'n_iter_no_change': 10, 'solver': 'adam'}\n",
      "---------------------------------------------------\n",
      "0.6865 (+/-0.0081) para {'batch_size': 32, 'learning_rate_init': 0.01, 'max_iter': 300, 'n_iter_no_change': 10, 'solver': 'sgd'}\n",
      "---------------------------------------------------\n",
      "0.6745 (+/-0.0393) para {'batch_size': 32, 'learning_rate_init': 0.01, 'max_iter': 300, 'n_iter_no_change': 10, 'solver': 'adam'}\n",
      "---------------------------------------------------\n",
      "0.6764 (+/-0.0051) para {'batch_size': 512, 'learning_rate_init': 0.001, 'max_iter': 300, 'n_iter_no_change': 10, 'solver': 'sgd'}\n",
      "---------------------------------------------------\n",
      "0.6969 (+/-0.0072) para {'batch_size': 512, 'learning_rate_init': 0.001, 'max_iter': 300, 'n_iter_no_change': 10, 'solver': 'adam'}\n",
      "---------------------------------------------------\n",
      "0.6932 (+/-0.0049) para {'batch_size': 512, 'learning_rate_init': 0.01, 'max_iter': 300, 'n_iter_no_change': 10, 'solver': 'sgd'}\n",
      "---------------------------------------------------\n",
      "0.6966 (+/-0.0115) para {'batch_size': 512, 'learning_rate_init': 0.01, 'max_iter': 300, 'n_iter_no_change': 10, 'solver': 'adam'}\n",
      "---------------------------------------------------\n",
      "\n",
      "Acurácia por configuração\n",
      "0.7042 (+/-0.0058) para {'batch_size': 32, 'learning_rate_init': 0.001, 'max_iter': 300, 'n_iter_no_change': 10, 'solver': 'sgd'}\n",
      "---------------------------------------------------\n",
      "0.7096 (+/-0.0030) para {'batch_size': 32, 'learning_rate_init': 0.001, 'max_iter': 300, 'n_iter_no_change': 10, 'solver': 'adam'}\n",
      "---------------------------------------------------\n",
      "0.7029 (+/-0.0074) para {'batch_size': 32, 'learning_rate_init': 0.01, 'max_iter': 300, 'n_iter_no_change': 10, 'solver': 'sgd'}\n",
      "---------------------------------------------------\n",
      "0.6915 (+/-0.0363) para {'batch_size': 32, 'learning_rate_init': 0.01, 'max_iter': 300, 'n_iter_no_change': 10, 'solver': 'adam'}\n",
      "---------------------------------------------------\n",
      "0.6976 (+/-0.0050) para {'batch_size': 512, 'learning_rate_init': 0.001, 'max_iter': 300, 'n_iter_no_change': 10, 'solver': 'sgd'}\n",
      "---------------------------------------------------\n",
      "0.7080 (+/-0.0048) para {'batch_size': 512, 'learning_rate_init': 0.001, 'max_iter': 300, 'n_iter_no_change': 10, 'solver': 'adam'}\n",
      "---------------------------------------------------\n",
      "0.7078 (+/-0.0056) para {'batch_size': 512, 'learning_rate_init': 0.01, 'max_iter': 300, 'n_iter_no_change': 10, 'solver': 'sgd'}\n",
      "---------------------------------------------------\n",
      "0.7077 (+/-0.0090) para {'batch_size': 512, 'learning_rate_init': 0.01, 'max_iter': 300, 'n_iter_no_change': 10, 'solver': 'adam'}\n",
      "---------------------------------------------------\n",
      "---------------------------------------------------\n",
      "\n"
     ]
    }
   ],
   "source": [
    "print(\"\")\n",
    "print(\"Arquitetura 6\")\n",
    "print(\"\")\n",
    "\n",
    "clf = gs([(6,), 'tanh'])\n",
    "\n",
    "results(clf)"
   ]
  },
  {
   "cell_type": "markdown",
   "metadata": {
    "id": "7JTljyqwrrg6"
   },
   "source": [
    "## Identificando a mellhor solução\n",
    "\n",
    "Como resultado da busca em grade com validação cruzada 5-fold, identifique o modelo otimizado com melhor desempenho para o problema. Apresente claramente este modelo, seus parâmetros, hiperparâmetros otimizados e resultados para cada um dos folds avaliados. Esta é a melhor solução identificada em decorrência deste projeto"
   ]
  },
  {
   "cell_type": "markdown",
   "metadata": {
    "id": "PqF33Z9lrrg_"
   },
   "source": [
    "<div style=\"text-align: justify\">\n",
    "       Com base no F-Score como métrica principal de desempenho, o modelo otimizado com o melhor desempenho para o problema é a arquitetura 4, a qual consistia de apenas uma camada oculta com 10 neurônios utilizando como função de ativação a tangente hiperbólica. Com um F-Score de 0.7115, a melhor configuração dessa arquitetura possuía um batch_size = 32, taxa de aprendizagem = 0.001, número máximo de épocas = 300, paciência = 10 e o solver = adam. Para cada arquitetura em cada uma de suas configurações de parâmetros e hiperparâmetros a acurácia também foi verificada, e para esse rede o resultado foi de 0.7227, ou aproximadamente 72,27%.\n",
    "</div>\n",
    "        Em suma.\n",
    "\n",
    " \n",
    "* Melhor solução\n",
    "  * Arquitetura 4\n",
    "    * 1 camada oculta com 10 neurônios\n",
    "    * Função de ativação: tangente hiperbólica\n",
    " \n",
    "* Melhores parâmetros da melhor solução\n",
    "  * solver = 'adam'\n",
    "  * batch_size = 32\n",
    "  * taxa de aprendizagem = 0.001\n",
    "  * paciência = 10\n",
    "  * épocas = 300\n",
    " \n",
    "* Resultados da melhor solução com os melhores parâmetros\n",
    "  * F-Score: 0.7115\n",
    "  * Acurácia: 0.7227\n",
    " \n",
    "\n",
    "\n",
    "\n"
   ]
  },
  {
   "cell_type": "markdown",
   "metadata": {
    "id": "BmuEwnikrrhz"
   },
   "source": [
    "## Empacotando a solução\n",
    "\n",
    "Suponha que você deve entregar este classificador ao órgão responsável por administrar o Roosevelt National Park. Para tanto, você deve fazer uma preparação do mesmo para utilização neste cenário. Uma vez que já identificou os melhores parâmetros e hiperparâmetros, o passo remanescente consiste em treinar o modelo com estes valores e todos os dados disponíveis, salvando o conjunto de pesos do modelo ao final para entrega ao cliente. Assim, finalize o projeto prático realizando tais passos.\n",
    "\n",
    "1. Consulte a documentação a seguir:\n",
    "https://scikit-learn.org/stable/modules/model_persistence.html\n",
    "2. Treine o modelo com todos os dados\n",
    "3. Salve o modelo em disco  \n",
    "4. Construa uma rotina que recupere o modelo em disco  \n",
    "5. Mostre que a rotina é funcional, fazendo previsões com todos os elementos do dataset e exibindo uma matriz de confusão das mesmas"
   ]
  },
  {
   "cell_type": "code",
   "execution_count": null,
   "metadata": {},
   "outputs": [],
   "source": []
  }
 ],
 "metadata": {
  "colab": {
   "name": "PP3.4 - Validação Cruzada e Busca em Grade.ipynb",
   "provenance": []
  },
  "kernelspec": {
   "display_name": "Python 3",
   "language": "python",
   "name": "python3"
  },
  "language_info": {
   "codemirror_mode": {
    "name": "ipython",
    "version": 3
   },
   "file_extension": ".py",
   "mimetype": "text/x-python",
   "name": "python",
   "nbconvert_exporter": "python",
   "pygments_lexer": "ipython3",
   "version": "3.6.9"
  }
 },
 "nbformat": 4,
 "nbformat_minor": 1
}
